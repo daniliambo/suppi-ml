{
 "cells": [
  {
   "cell_type": "markdown",
   "metadata": {},
   "source": [
    "# Preprocess data"
   ]
  },
  {
   "cell_type": "code",
   "execution_count": 1,
   "metadata": {},
   "outputs": [
    {
     "name": "stdout",
     "output_type": "stream",
     "text": [
      "[Pipeline] ......... (step 1 of 6) Processing drop_data, total=   0.0s\n",
      "[Pipeline] . (step 2 of 6) Processing drop_na_base_data, total=   0.0s\n",
      "[Pipeline] . (step 3 of 6) Processing drop_fill_na_data, total=   0.1s\n"
     ]
    },
    {
     "name": "stderr",
     "output_type": "stream",
     "text": [
      "/Users/dev.daniil.bakushkin/Desktop/suppi/ml/app/pipeline/step_0/custom_transformers.py:167: SettingWithCopyWarning: \n",
      "A value is trying to be set on a copy of a slice from a DataFrame\n",
      "\n",
      "See the caveats in the documentation: https://pandas.pydata.org/pandas-docs/stable/user_guide/indexing.html#returning-a-view-versus-a-copy\n",
      "  X[col].fillna(mode_, inplace=True)\n",
      "/Users/dev.daniil.bakushkin/Desktop/suppi/ml/app/pipeline/step_0/custom_transformers.py:170: SettingWithCopyWarning: \n",
      "A value is trying to be set on a copy of a slice from a DataFrame\n",
      "\n",
      "See the caveats in the documentation: https://pandas.pydata.org/pandas-docs/stable/user_guide/indexing.html#returning-a-view-versus-a-copy\n",
      "  X[col].fillna(X.groupby([self.col_group_by_1, self.col_group_by_2])[\n",
      "/Users/dev.daniil.bakushkin/Desktop/suppi/ml/app/pipeline/step_0/custom_transformers.py:173: SettingWithCopyWarning: \n",
      "A value is trying to be set on a copy of a slice from a DataFrame\n",
      "\n",
      "See the caveats in the documentation: https://pandas.pydata.org/pandas-docs/stable/user_guide/indexing.html#returning-a-view-versus-a-copy\n",
      "  X[col].fillna(X.groupby(self.col_group_by_1)[col].transform(\n",
      "/Users/dev.daniil.bakushkin/Desktop/suppi/ml/app/pipeline/step_0/custom_transformers.py:176: SettingWithCopyWarning: \n",
      "A value is trying to be set on a copy of a slice from a DataFrame\n",
      "\n",
      "See the caveats in the documentation: https://pandas.pydata.org/pandas-docs/stable/user_guide/indexing.html#returning-a-view-versus-a-copy\n",
      "  X[col].fillna(pd.Series.mean(X[col]), inplace=True)\n",
      "/Users/dev.daniil.bakushkin/Desktop/suppi/ml/app/pipeline/step_0/custom_transformers.py:170: SettingWithCopyWarning: \n",
      "A value is trying to be set on a copy of a slice from a DataFrame\n",
      "\n",
      "See the caveats in the documentation: https://pandas.pydata.org/pandas-docs/stable/user_guide/indexing.html#returning-a-view-versus-a-copy\n",
      "  X[col].fillna(X.groupby([self.col_group_by_1, self.col_group_by_2])[\n",
      "/Users/dev.daniil.bakushkin/Desktop/suppi/ml/app/pipeline/step_0/custom_transformers.py:173: SettingWithCopyWarning: \n",
      "A value is trying to be set on a copy of a slice from a DataFrame\n",
      "\n",
      "See the caveats in the documentation: https://pandas.pydata.org/pandas-docs/stable/user_guide/indexing.html#returning-a-view-versus-a-copy\n",
      "  X[col].fillna(X.groupby(self.col_group_by_1)[col].transform(\n",
      "/Users/dev.daniil.bakushkin/Desktop/suppi/ml/app/pipeline/step_0/custom_transformers.py:176: SettingWithCopyWarning: \n",
      "A value is trying to be set on a copy of a slice from a DataFrame\n",
      "\n",
      "See the caveats in the documentation: https://pandas.pydata.org/pandas-docs/stable/user_guide/indexing.html#returning-a-view-versus-a-copy\n",
      "  X[col].fillna(pd.Series.mean(X[col]), inplace=True)\n",
      "/Users/dev.daniil.bakushkin/Desktop/suppi/ml/app/pipeline/step_0/custom_transformers.py:138: SettingWithCopyWarning: \n",
      "A value is trying to be set on a copy of a slice from a DataFrame\n",
      "\n",
      "See the caveats in the documentation: https://pandas.pydata.org/pandas-docs/stable/user_guide/indexing.html#returning-a-view-versus-a-copy\n",
      "  X.drop(cols_with_zeros +\n",
      "/Users/dev.daniil.bakushkin/Desktop/suppi/ml/app/pipeline/step_0/custom_transformers.py:107: SettingWithCopyWarning: \n",
      "A value is trying to be set on a copy of a slice from a DataFrame.\n",
      "Try using .loc[row_indexer,col_indexer] = value instead\n",
      "\n",
      "See the caveats in the documentation: https://pandas.pydata.org/pandas-docs/stable/user_guide/indexing.html#returning-a-view-versus-a-copy\n",
      "  X['sum_' + '_'.join(numeric_columns)] = X.loc[:,\n",
      "/Users/dev.daniil.bakushkin/Desktop/suppi/ml/app/pipeline/step_0/custom_transformers.py:112: SettingWithCopyWarning: \n",
      "A value is trying to be set on a copy of a slice from a DataFrame.\n",
      "Try using .loc[row_indexer,col_indexer] = value instead\n",
      "\n",
      "See the caveats in the documentation: https://pandas.pydata.org/pandas-docs/stable/user_guide/indexing.html#returning-a-view-versus-a-copy\n",
      "  X['accruals'] = X[ao] + X[ar]\n",
      "/Users/dev.daniil.bakushkin/Desktop/suppi/ml/app/pipeline/step_0/custom_transformers.py:116: SettingWithCopyWarning: \n",
      "A value is trying to be set on a copy of a slice from a DataFrame\n",
      "\n",
      "See the caveats in the documentation: https://pandas.pydata.org/pandas-docs/stable/user_guide/indexing.html#returning-a-view-versus-a-copy\n",
      "  X.drop(columns_to_drop, axis=1, inplace=True)\n"
     ]
    },
    {
     "name": "stdout",
     "output_type": "stream",
     "text": [
      "[Pipeline]  (step 4 of 6) Processing drop_non_informative_data, total=   0.1s\n",
      "[Pipeline]  (step 5 of 6) Processing join_non_informative_data, total=   0.0s\n",
      "[Pipeline] . (step 6 of 6) Processing group_by_day_data, total=   5.3s\n"
     ]
    }
   ],
   "source": [
    "from pipeline.step_0.build_pipeline import load_and_preprocess\n",
    "\n",
    "if __name__ == \"__main__\":\n",
    "    res = load_and_preprocess()"
   ]
  }
 ],
 "metadata": {
  "kernelspec": {
   "display_name": "shad",
   "language": "python",
   "name": "python3"
  },
  "language_info": {
   "codemirror_mode": {
    "name": "ipython",
    "version": 3
   },
   "file_extension": ".py",
   "mimetype": "text/x-python",
   "name": "python",
   "nbconvert_exporter": "python",
   "pygments_lexer": "ipython3",
   "version": "3.11.5"
  }
 },
 "nbformat": 4,
 "nbformat_minor": 2
}
