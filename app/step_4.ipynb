{
 "cells": [
  {
   "cell_type": "code",
   "execution_count": 1,
   "metadata": {},
   "outputs": [],
   "source": [
    "from pipeline.step_3.build_pipeline import load_and_preprocess"
   ]
  },
  {
   "cell_type": "code",
   "execution_count": 2,
   "metadata": {},
   "outputs": [
    {
     "name": "stdout",
     "output_type": "stream",
     "text": [
      "[Pipeline] ......... (step 1 of 6) Processing drop_data, total=   0.0s\n",
      "[Pipeline] . (step 2 of 6) Processing drop_na_base_data, total=   0.0s\n",
      "[Pipeline] . (step 3 of 6) Processing drop_fill_na_data, total=   0.1s\n",
      "[Pipeline]  (step 4 of 6) Processing drop_non_informative_data, total=   0.1s\n"
     ]
    },
    {
     "name": "stderr",
     "output_type": "stream",
     "text": [
      "/Users/dev.daniil.bakushkin/Desktop/suppi/ml/app/pipeline/step_0/custom_transformers.py:167: SettingWithCopyWarning: \n",
      "A value is trying to be set on a copy of a slice from a DataFrame\n",
      "\n",
      "See the caveats in the documentation: https://pandas.pydata.org/pandas-docs/stable/user_guide/indexing.html#returning-a-view-versus-a-copy\n",
      "  X[col].fillna(mode_, inplace=True)\n",
      "/Users/dev.daniil.bakushkin/Desktop/suppi/ml/app/pipeline/step_0/custom_transformers.py:170: SettingWithCopyWarning: \n",
      "A value is trying to be set on a copy of a slice from a DataFrame\n",
      "\n",
      "See the caveats in the documentation: https://pandas.pydata.org/pandas-docs/stable/user_guide/indexing.html#returning-a-view-versus-a-copy\n",
      "  X[col].fillna(X.groupby([self.col_group_by_1, self.col_group_by_2])[\n",
      "/Users/dev.daniil.bakushkin/Desktop/suppi/ml/app/pipeline/step_0/custom_transformers.py:173: SettingWithCopyWarning: \n",
      "A value is trying to be set on a copy of a slice from a DataFrame\n",
      "\n",
      "See the caveats in the documentation: https://pandas.pydata.org/pandas-docs/stable/user_guide/indexing.html#returning-a-view-versus-a-copy\n",
      "  X[col].fillna(X.groupby(self.col_group_by_1)[col].transform(\n",
      "/Users/dev.daniil.bakushkin/Desktop/suppi/ml/app/pipeline/step_0/custom_transformers.py:176: SettingWithCopyWarning: \n",
      "A value is trying to be set on a copy of a slice from a DataFrame\n",
      "\n",
      "See the caveats in the documentation: https://pandas.pydata.org/pandas-docs/stable/user_guide/indexing.html#returning-a-view-versus-a-copy\n",
      "  X[col].fillna(pd.Series.mean(X[col]), inplace=True)\n",
      "/Users/dev.daniil.bakushkin/Desktop/suppi/ml/app/pipeline/step_0/custom_transformers.py:170: SettingWithCopyWarning: \n",
      "A value is trying to be set on a copy of a slice from a DataFrame\n",
      "\n",
      "See the caveats in the documentation: https://pandas.pydata.org/pandas-docs/stable/user_guide/indexing.html#returning-a-view-versus-a-copy\n",
      "  X[col].fillna(X.groupby([self.col_group_by_1, self.col_group_by_2])[\n",
      "/Users/dev.daniil.bakushkin/Desktop/suppi/ml/app/pipeline/step_0/custom_transformers.py:173: SettingWithCopyWarning: \n",
      "A value is trying to be set on a copy of a slice from a DataFrame\n",
      "\n",
      "See the caveats in the documentation: https://pandas.pydata.org/pandas-docs/stable/user_guide/indexing.html#returning-a-view-versus-a-copy\n",
      "  X[col].fillna(X.groupby(self.col_group_by_1)[col].transform(\n",
      "/Users/dev.daniil.bakushkin/Desktop/suppi/ml/app/pipeline/step_0/custom_transformers.py:176: SettingWithCopyWarning: \n",
      "A value is trying to be set on a copy of a slice from a DataFrame\n",
      "\n",
      "See the caveats in the documentation: https://pandas.pydata.org/pandas-docs/stable/user_guide/indexing.html#returning-a-view-versus-a-copy\n",
      "  X[col].fillna(pd.Series.mean(X[col]), inplace=True)\n",
      "/Users/dev.daniil.bakushkin/Desktop/suppi/ml/app/pipeline/step_0/custom_transformers.py:138: SettingWithCopyWarning: \n",
      "A value is trying to be set on a copy of a slice from a DataFrame\n",
      "\n",
      "See the caveats in the documentation: https://pandas.pydata.org/pandas-docs/stable/user_guide/indexing.html#returning-a-view-versus-a-copy\n",
      "  X.drop(cols_with_zeros +\n",
      "/Users/dev.daniil.bakushkin/Desktop/suppi/ml/app/pipeline/step_0/custom_transformers.py:107: SettingWithCopyWarning: \n",
      "A value is trying to be set on a copy of a slice from a DataFrame.\n",
      "Try using .loc[row_indexer,col_indexer] = value instead\n",
      "\n",
      "See the caveats in the documentation: https://pandas.pydata.org/pandas-docs/stable/user_guide/indexing.html#returning-a-view-versus-a-copy\n",
      "  X['sum_' + '_'.join(numeric_columns)] = X.loc[:,\n",
      "/Users/dev.daniil.bakushkin/Desktop/suppi/ml/app/pipeline/step_0/custom_transformers.py:112: SettingWithCopyWarning: \n",
      "A value is trying to be set on a copy of a slice from a DataFrame.\n",
      "Try using .loc[row_indexer,col_indexer] = value instead\n",
      "\n",
      "See the caveats in the documentation: https://pandas.pydata.org/pandas-docs/stable/user_guide/indexing.html#returning-a-view-versus-a-copy\n",
      "  X['accruals'] = X[ao] + X[ar]\n",
      "/Users/dev.daniil.bakushkin/Desktop/suppi/ml/app/pipeline/step_0/custom_transformers.py:116: SettingWithCopyWarning: \n",
      "A value is trying to be set on a copy of a slice from a DataFrame\n",
      "\n",
      "See the caveats in the documentation: https://pandas.pydata.org/pandas-docs/stable/user_guide/indexing.html#returning-a-view-versus-a-copy\n",
      "  X.drop(columns_to_drop, axis=1, inplace=True)\n"
     ]
    },
    {
     "name": "stdout",
     "output_type": "stream",
     "text": [
      "[Pipeline]  (step 5 of 6) Processing join_non_informative_data, total=   0.0s\n",
      "[Pipeline] . (step 6 of 6) Processing group_by_day_data, total=   5.2s\n",
      "[Pipeline] ...... (step 1 of 2) Processing keep_feature, total=   0.0s\n"
     ]
    },
    {
     "name": "stderr",
     "output_type": "stream",
     "text": [
      "/Users/dev.daniil.bakushkin/miniconda3/envs/shad/lib/python3.11/site-packages/sklearn/utils/extmath.py:1051: RuntimeWarning: invalid value encountered in divide\n",
      "  updated_mean = (last_sum + new_sum) / updated_sample_count\n",
      "/Users/dev.daniil.bakushkin/miniconda3/envs/shad/lib/python3.11/site-packages/sklearn/utils/extmath.py:1056: RuntimeWarning: invalid value encountered in divide\n",
      "  T = new_sum / new_sample_count\n",
      "/Users/dev.daniil.bakushkin/miniconda3/envs/shad/lib/python3.11/site-packages/sklearn/utils/extmath.py:1076: RuntimeWarning: invalid value encountered in divide\n",
      "  new_unnormalized_variance -= correction**2 / new_sample_count\n"
     ]
    },
    {
     "name": "stdout",
     "output_type": "stream",
     "text": [
      "[Pipeline] ............... (step 2 of 2) Processing knn, total=  41.7s\n"
     ]
    }
   ],
   "source": [
    "df = load_and_preprocess()"
   ]
  },
  {
   "cell_type": "code",
   "execution_count": 69,
   "metadata": {},
   "outputs": [],
   "source": [
    "# df_copy = df.copy()\n",
    "df = df_copy.copy()"
   ]
  },
  {
   "cell_type": "code",
   "execution_count": 4,
   "metadata": {},
   "outputs": [],
   "source": [
    "# from pipeline.step_4.build_pipeline import visualization, set_datetime\n",
    "# df.head(1)\n",
    "# visualization(df)"
   ]
  },
  {
   "cell_type": "code",
   "execution_count": 70,
   "metadata": {},
   "outputs": [],
   "source": [
    "from pandas.tseries.offsets import DateOffset\n",
    "from utils.reader import ReadData\n",
    "import pandas as pd\n",
    "\n",
    "\n",
    "def train_test_split(df):\n",
    "\n",
    "    def get_split(df: pd.DataFrame):\n",
    "        offset = df.index[-1] - DateOffset(weeks=1)\n",
    "        df_train = df[df.index < offset]\n",
    "        df_test = df[df.index >= offset]\n",
    "        df_train.reset_index(inplace=True)\n",
    "        df_test.reset_index(inplace=True)\n",
    "        return df_train, df_test\n",
    "\n",
    "    df = set_datetime(df)\n",
    "    df_train, df_test = get_split(df)\n",
    "\n",
    "    return df_train, df_test\n",
    "\n",
    "\n",
    "def set_target(df):\n",
    "    TARGET = 'TARGET'\n",
    "    qp, qr = 'quantity_of_paid', 'quantity_of_return',\n",
    "    df[TARGET] = df[qp] - df[qr]\n",
    "    df.drop([qp, qr], axis=1, inplace=True)\n",
    "    return df\n",
    "\n",
    "\n",
    "def set_datetime(df):\n",
    "    df['date'] = pd.to_datetime(df['date'])\n",
    "    df = df.set_index('date', drop=True, inplace=False)\n",
    "    df.sort_index(inplace=True)\n",
    "    return df\n",
    "\n",
    "\n",
    "def load_and_preprocess(df):\n",
    "    df = set_target(df)\n",
    "    df = set_datetime(df)\n",
    "    # df_train, df_test = train_test_split(df)\n",
    "    # return df_train, df_test\n",
    "    return df"
   ]
  },
  {
   "cell_type": "code",
   "execution_count": 71,
   "metadata": {},
   "outputs": [],
   "source": [
    "df = load_and_preprocess(df)"
   ]
  },
  {
   "cell_type": "code",
   "execution_count": 72,
   "metadata": {},
   "outputs": [],
   "source": [
    "shop_id = df.shop_id[0]\n",
    "offer_id = df.groupby('offer_id')['TARGET'].sum().index[df.groupby('offer_id')['TARGET'].sum().argmax()]\n",
    "df_run = df.loc[(df.shop_id == shop_id) & (df.offer_id == offer_id)]\n",
    "df_run.drop(['shop_id', 'offer_id', 'title', 'warehouse_name', 'delivery_schema'], axis=1, inplace=True)"
   ]
  },
  {
   "cell_type": "code",
   "execution_count": 73,
   "metadata": {},
   "outputs": [
    {
     "data": {
      "text/html": [
       "<div>\n",
       "<style scoped>\n",
       "    .dataframe tbody tr th:only-of-type {\n",
       "        vertical-align: middle;\n",
       "    }\n",
       "\n",
       "    .dataframe tbody tr th {\n",
       "        vertical-align: top;\n",
       "    }\n",
       "\n",
       "    .dataframe thead th {\n",
       "        text-align: right;\n",
       "    }\n",
       "</style>\n",
       "<table border=\"1\" class=\"dataframe\">\n",
       "  <thead>\n",
       "    <tr style=\"text-align: right;\">\n",
       "      <th></th>\n",
       "      <th>num_actions</th>\n",
       "      <th>position_category</th>\n",
       "      <th>price_index</th>\n",
       "      <th>external_index_data_minimal_price</th>\n",
       "      <th>external_index_data_price_index_value</th>\n",
       "      <th>self_marketplaces_index_data_minimal_price</th>\n",
       "      <th>self_marketplaces_index_data_price_index_value</th>\n",
       "      <th>marketing_seller_price</th>\n",
       "      <th>marketing_price</th>\n",
       "      <th>conv_tocart</th>\n",
       "      <th>conv_tocart_pdp</th>\n",
       "      <th>hits_tocart</th>\n",
       "      <th>hits_tocart_pdp</th>\n",
       "      <th>hits_view_search</th>\n",
       "      <th>gross_profit</th>\n",
       "      <th>sales_profit</th>\n",
       "      <th>prime_cost_of_paid</th>\n",
       "      <th>prime_cost_of_return</th>\n",
       "      <th>cancellation_processing</th>\n",
       "      <th>seller_bonuses_cost</th>\n",
       "      <th>cross_docking_cost_prod</th>\n",
       "      <th>gds_net_profit_after_tax</th>\n",
       "      <th>gds_profitability_after_tax</th>\n",
       "      <th>other_cost_prod</th>\n",
       "      <th>placement_cost_prod</th>\n",
       "      <th>promotion_advertising_prod</th>\n",
       "      <th>promotion_reviews_prod</th>\n",
       "      <th>shop_net_profit_after_tax</th>\n",
       "      <th>shop_net_profit_bfr_tax</th>\n",
       "      <th>shop_profitability_after_tax</th>\n",
       "      <th>gds_net_profit_bfr_tax</th>\n",
       "      <th>sum_orders_commission_returns_commission_installment_sale_cost_last_mile_reverse_logistics_direct_logistics_acquiring_cost_prod</th>\n",
       "      <th>accruals</th>\n",
       "      <th>TARGET</th>\n",
       "    </tr>\n",
       "    <tr>\n",
       "      <th>date</th>\n",
       "      <th></th>\n",
       "      <th></th>\n",
       "      <th></th>\n",
       "      <th></th>\n",
       "      <th></th>\n",
       "      <th></th>\n",
       "      <th></th>\n",
       "      <th></th>\n",
       "      <th></th>\n",
       "      <th></th>\n",
       "      <th></th>\n",
       "      <th></th>\n",
       "      <th></th>\n",
       "      <th></th>\n",
       "      <th></th>\n",
       "      <th></th>\n",
       "      <th></th>\n",
       "      <th></th>\n",
       "      <th></th>\n",
       "      <th></th>\n",
       "      <th></th>\n",
       "      <th></th>\n",
       "      <th></th>\n",
       "      <th></th>\n",
       "      <th></th>\n",
       "      <th></th>\n",
       "      <th></th>\n",
       "      <th></th>\n",
       "      <th></th>\n",
       "      <th></th>\n",
       "      <th></th>\n",
       "      <th></th>\n",
       "      <th></th>\n",
       "      <th></th>\n",
       "    </tr>\n",
       "  </thead>\n",
       "  <tbody>\n",
       "    <tr>\n",
       "      <th>2023-09-01</th>\n",
       "      <td>-0.549121</td>\n",
       "      <td>0.0</td>\n",
       "      <td>-0.147836</td>\n",
       "      <td>2.290866</td>\n",
       "      <td>0.863147</td>\n",
       "      <td>-0.079189</td>\n",
       "      <td>-0.18764</td>\n",
       "      <td>-0.164954</td>\n",
       "      <td>0.0</td>\n",
       "      <td>-0.085417</td>\n",
       "      <td>-0.154751</td>\n",
       "      <td>-0.08107</td>\n",
       "      <td>0.0</td>\n",
       "      <td>-0.069317</td>\n",
       "      <td>14344.92</td>\n",
       "      <td>6432.925</td>\n",
       "      <td>-9520.56</td>\n",
       "      <td>604.48</td>\n",
       "      <td>-250.0</td>\n",
       "      <td>-59.825</td>\n",
       "      <td>-269.089369</td>\n",
       "      <td>3260.098997</td>\n",
       "      <td>1289.37</td>\n",
       "      <td>-53.104988</td>\n",
       "      <td>-205.18964</td>\n",
       "      <td>-2383.553829</td>\n",
       "      <td>-57.144943</td>\n",
       "      <td>6432.925</td>\n",
       "      <td>6432.925</td>\n",
       "      <td>2203.36</td>\n",
       "      <td>3260.098997</td>\n",
       "      <td>-7806.913233</td>\n",
       "      <td>23261.0</td>\n",
       "      <td>67</td>\n",
       "    </tr>\n",
       "  </tbody>\n",
       "</table>\n",
       "</div>"
      ],
      "text/plain": [
       "           num_actions position_category price_index  \\\n",
       "date                                                   \n",
       "2023-09-01   -0.549121               0.0   -0.147836   \n",
       "\n",
       "           external_index_data_minimal_price  \\\n",
       "date                                           \n",
       "2023-09-01                          2.290866   \n",
       "\n",
       "           external_index_data_price_index_value  \\\n",
       "date                                               \n",
       "2023-09-01                              0.863147   \n",
       "\n",
       "           self_marketplaces_index_data_minimal_price  \\\n",
       "date                                                    \n",
       "2023-09-01                                  -0.079189   \n",
       "\n",
       "           self_marketplaces_index_data_price_index_value  \\\n",
       "date                                                        \n",
       "2023-09-01                                       -0.18764   \n",
       "\n",
       "           marketing_seller_price marketing_price conv_tocart conv_tocart_pdp  \\\n",
       "date                                                                            \n",
       "2023-09-01              -0.164954             0.0   -0.085417       -0.154751   \n",
       "\n",
       "           hits_tocart hits_tocart_pdp hits_view_search gross_profit  \\\n",
       "date                                                                   \n",
       "2023-09-01    -0.08107             0.0        -0.069317     14344.92   \n",
       "\n",
       "           sales_profit prime_cost_of_paid prime_cost_of_return  \\\n",
       "date                                                              \n",
       "2023-09-01     6432.925           -9520.56               604.48   \n",
       "\n",
       "           cancellation_processing seller_bonuses_cost  \\\n",
       "date                                                     \n",
       "2023-09-01                  -250.0             -59.825   \n",
       "\n",
       "           cross_docking_cost_prod gds_net_profit_after_tax  \\\n",
       "date                                                          \n",
       "2023-09-01             -269.089369              3260.098997   \n",
       "\n",
       "           gds_profitability_after_tax other_cost_prod placement_cost_prod  \\\n",
       "date                                                                         \n",
       "2023-09-01                     1289.37      -53.104988          -205.18964   \n",
       "\n",
       "           promotion_advertising_prod promotion_reviews_prod  \\\n",
       "date                                                           \n",
       "2023-09-01               -2383.553829             -57.144943   \n",
       "\n",
       "           shop_net_profit_after_tax shop_net_profit_bfr_tax  \\\n",
       "date                                                           \n",
       "2023-09-01                  6432.925                6432.925   \n",
       "\n",
       "           shop_profitability_after_tax gds_net_profit_bfr_tax  \\\n",
       "date                                                             \n",
       "2023-09-01                      2203.36            3260.098997   \n",
       "\n",
       "           sum_orders_commission_returns_commission_installment_sale_cost_last_mile_reverse_logistics_direct_logistics_acquiring_cost_prod  \\\n",
       "date                                                                                                                                         \n",
       "2023-09-01                                       -7806.913233                                                                                \n",
       "\n",
       "           accruals TARGET  \n",
       "date                        \n",
       "2023-09-01  23261.0     67  "
      ]
     },
     "execution_count": 73,
     "metadata": {},
     "output_type": "execute_result"
    }
   ],
   "source": [
    "df_run.head(1)\n"
   ]
  },
  {
   "cell_type": "code",
   "execution_count": 16,
   "metadata": {},
   "outputs": [],
   "source": [
    "# Отдебажить модель для одного товара.\n",
    "# Временные фичи\n",
    "# сделать формулу для настройки цен\n",
    "# сделать цикл для всех товаров\n",
    "# "
   ]
  },
  {
   "cell_type": "code",
   "execution_count": 127,
   "metadata": {},
   "outputs": [],
   "source": [
    "# import import_ipynb\n",
    "# from models import model_0 as model\n",
    "# model = model.Model()\n",
    "\n",
    "# df_run_copy = df_run.copy()\n",
    "import imp\n",
    "from models import model as model_py\n",
    "df_run = df_run_copy.copy()\n",
    "\n",
    "imp.reload(model_py)\n",
    "\n",
    "model = model_py.Model()"
   ]
  },
  {
   "cell_type": "code",
   "execution_count": 130,
   "metadata": {},
   "outputs": [
    {
     "name": "stderr",
     "output_type": "stream",
     "text": [
      "100%|██████████| 7/7 [00:01<00:00,  5.15it/s]\n"
     ]
    },
    {
     "data": {
      "text/plain": [
       "<Figure size 960x720 with 0 Axes>"
      ]
     },
     "metadata": {},
     "output_type": "display_data"
    },
    {
     "data": {
      "image/png": "[encoded data removed]",
      "text/plain": [
       "<Figure size 1600x600 with 1 Axes>"
      ]
     },
     "metadata": {},
     "output_type": "display_data"
    }
   ],
   "source": [
    "model.main(inference=True, df=df_run)"
   ]
  },
  {
   "cell_type": "code",
   "execution_count": 96,
   "metadata": {},
   "outputs": [],
   "source": [
    "\n",
    "from pandas import DatetimeIndex\n",
    "import numpy as np\n",
    "test_df = pd.DataFrame(np.arange(7), index=DatetimeIndex(['2023-10-09', '2023-10-10', '2023-10-11', '2023-10-12',\n",
    "               '2023-10-13', '2023-10-14', '2023-10-15']))\n",
    "\n"
   ]
  },
  {
   "cell_type": "code",
   "execution_count": 102,
   "metadata": {},
   "outputs": [
    {
     "data": {
      "text/plain": [
       "Timestamp('2023-10-09 00:00:00')"
      ]
     },
     "execution_count": 102,
     "metadata": {},
     "output_type": "execute_result"
    }
   ],
   "source": [
    "test_df.index[0]"
   ]
  }
 ],
 "metadata": {
  "kernelspec": {
   "display_name": "Python 3",
   "language": "python",
   "name": "python3"
  },
  "language_info": {
   "codemirror_mode": {
    "name": "ipython",
    "version": 3
   },
   "file_extension": ".py",
   "mimetype": "text/x-python",
   "name": "python",
   "nbconvert_exporter": "python",
   "pygments_lexer": "ipython3",
   "version": "3.11.5"
  }
 },
 "nbformat": 4,
 "nbformat_minor": 0
}
