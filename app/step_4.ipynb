{
 "cells": [
  {
   "cell_type": "code",
   "execution_count": 1,
   "metadata": {},
   "outputs": [],
   "source": [
    "from pipeline.step_3.build_pipeline import load_and_preprocess"
   ]
  },
  {
   "cell_type": "code",
   "execution_count": 2,
   "metadata": {},
   "outputs": [
    {
     "name": "stdout",
     "output_type": "stream",
     "text": [
      "[Pipeline] ......... (step 1 of 6) Processing drop_data, total=   0.0s\n",
      "[Pipeline] . (step 2 of 6) Processing drop_na_base_data, total=   0.0s\n",
      "[Pipeline] . (step 3 of 6) Processing drop_fill_na_data, total=   0.1s\n",
      "[Pipeline]  (step 4 of 6) Processing drop_non_informative_data, total=   0.1s\n"
     ]
    },
    {
     "name": "stderr",
     "output_type": "stream",
     "text": [
      "/Users/dev.daniil.bakushkin/Desktop/suppi/ml/app/pipeline/step_0/custom_transformers.py:167: SettingWithCopyWarning: \n",
      "A value is trying to be set on a copy of a slice from a DataFrame\n",
      "\n",
      "See the caveats in the documentation: https://pandas.pydata.org/pandas-docs/stable/user_guide/indexing.html#returning-a-view-versus-a-copy\n",
      "  X[col].fillna(mode_, inplace=True)\n",
      "/Users/dev.daniil.bakushkin/Desktop/suppi/ml/app/pipeline/step_0/custom_transformers.py:170: SettingWithCopyWarning: \n",
      "A value is trying to be set on a copy of a slice from a DataFrame\n",
      "\n",
      "See the caveats in the documentation: https://pandas.pydata.org/pandas-docs/stable/user_guide/indexing.html#returning-a-view-versus-a-copy\n",
      "  X[col].fillna(X.groupby([self.col_group_by_1, self.col_group_by_2])[\n",
      "/Users/dev.daniil.bakushkin/Desktop/suppi/ml/app/pipeline/step_0/custom_transformers.py:173: SettingWithCopyWarning: \n",
      "A value is trying to be set on a copy of a slice from a DataFrame\n",
      "\n",
      "See the caveats in the documentation: https://pandas.pydata.org/pandas-docs/stable/user_guide/indexing.html#returning-a-view-versus-a-copy\n",
      "  X[col].fillna(X.groupby(self.col_group_by_1)[col].transform(\n",
      "/Users/dev.daniil.bakushkin/Desktop/suppi/ml/app/pipeline/step_0/custom_transformers.py:176: SettingWithCopyWarning: \n",
      "A value is trying to be set on a copy of a slice from a DataFrame\n",
      "\n",
      "See the caveats in the documentation: https://pandas.pydata.org/pandas-docs/stable/user_guide/indexing.html#returning-a-view-versus-a-copy\n",
      "  X[col].fillna(pd.Series.mean(X[col]), inplace=True)\n",
      "/Users/dev.daniil.bakushkin/Desktop/suppi/ml/app/pipeline/step_0/custom_transformers.py:170: SettingWithCopyWarning: \n",
      "A value is trying to be set on a copy of a slice from a DataFrame\n",
      "\n",
      "See the caveats in the documentation: https://pandas.pydata.org/pandas-docs/stable/user_guide/indexing.html#returning-a-view-versus-a-copy\n",
      "  X[col].fillna(X.groupby([self.col_group_by_1, self.col_group_by_2])[\n",
      "/Users/dev.daniil.bakushkin/Desktop/suppi/ml/app/pipeline/step_0/custom_transformers.py:173: SettingWithCopyWarning: \n",
      "A value is trying to be set on a copy of a slice from a DataFrame\n",
      "\n",
      "See the caveats in the documentation: https://pandas.pydata.org/pandas-docs/stable/user_guide/indexing.html#returning-a-view-versus-a-copy\n",
      "  X[col].fillna(X.groupby(self.col_group_by_1)[col].transform(\n",
      "/Users/dev.daniil.bakushkin/Desktop/suppi/ml/app/pipeline/step_0/custom_transformers.py:176: SettingWithCopyWarning: \n",
      "A value is trying to be set on a copy of a slice from a DataFrame\n",
      "\n",
      "See the caveats in the documentation: https://pandas.pydata.org/pandas-docs/stable/user_guide/indexing.html#returning-a-view-versus-a-copy\n",
      "  X[col].fillna(pd.Series.mean(X[col]), inplace=True)\n",
      "/Users/dev.daniil.bakushkin/Desktop/suppi/ml/app/pipeline/step_0/custom_transformers.py:138: SettingWithCopyWarning: \n",
      "A value is trying to be set on a copy of a slice from a DataFrame\n",
      "\n",
      "See the caveats in the documentation: https://pandas.pydata.org/pandas-docs/stable/user_guide/indexing.html#returning-a-view-versus-a-copy\n",
      "  X.drop(cols_with_zeros +\n",
      "/Users/dev.daniil.bakushkin/Desktop/suppi/ml/app/pipeline/step_0/custom_transformers.py:107: SettingWithCopyWarning: \n",
      "A value is trying to be set on a copy of a slice from a DataFrame.\n",
      "Try using .loc[row_indexer,col_indexer] = value instead\n",
      "\n",
      "See the caveats in the documentation: https://pandas.pydata.org/pandas-docs/stable/user_guide/indexing.html#returning-a-view-versus-a-copy\n",
      "  X['sum_' + '_'.join(numeric_columns)] = X.loc[:,\n",
      "/Users/dev.daniil.bakushkin/Desktop/suppi/ml/app/pipeline/step_0/custom_transformers.py:112: SettingWithCopyWarning: \n",
      "A value is trying to be set on a copy of a slice from a DataFrame.\n",
      "Try using .loc[row_indexer,col_indexer] = value instead\n",
      "\n",
      "See the caveats in the documentation: https://pandas.pydata.org/pandas-docs/stable/user_guide/indexing.html#returning-a-view-versus-a-copy\n",
      "  X['accruals'] = X[ao] + X[ar]\n",
      "/Users/dev.daniil.bakushkin/Desktop/suppi/ml/app/pipeline/step_0/custom_transformers.py:116: SettingWithCopyWarning: \n",
      "A value is trying to be set on a copy of a slice from a DataFrame\n",
      "\n",
      "See the caveats in the documentation: https://pandas.pydata.org/pandas-docs/stable/user_guide/indexing.html#returning-a-view-versus-a-copy\n",
      "  X.drop(columns_to_drop, axis=1, inplace=True)\n"
     ]
    },
    {
     "name": "stdout",
     "output_type": "stream",
     "text": [
      "[Pipeline]  (step 5 of 6) Processing join_non_informative_data, total=   0.0s\n",
      "[Pipeline] . (step 6 of 6) Processing group_by_day_data, total=   5.3s\n",
      "[Pipeline] ...... (step 1 of 2) Processing keep_feature, total=   0.0s\n"
     ]
    },
    {
     "name": "stderr",
     "output_type": "stream",
     "text": [
      "/Users/dev.daniil.bakushkin/miniconda3/envs/shad/lib/python3.11/site-packages/sklearn/utils/extmath.py:1051: RuntimeWarning: invalid value encountered in divide\n",
      "  updated_mean = (last_sum + new_sum) / updated_sample_count\n",
      "/Users/dev.daniil.bakushkin/miniconda3/envs/shad/lib/python3.11/site-packages/sklearn/utils/extmath.py:1056: RuntimeWarning: invalid value encountered in divide\n",
      "  T = new_sum / new_sample_count\n",
      "/Users/dev.daniil.bakushkin/miniconda3/envs/shad/lib/python3.11/site-packages/sklearn/utils/extmath.py:1076: RuntimeWarning: invalid value encountered in divide\n",
      "  new_unnormalized_variance -= correction**2 / new_sample_count\n"
     ]
    },
    {
     "name": "stdout",
     "output_type": "stream",
     "text": [
      "[Pipeline] ............... (step 2 of 2) Processing knn, total=  41.1s\n"
     ]
    }
   ],
   "source": [
    "df = load_and_preprocess()"
   ]
  },
  {
   "cell_type": "code",
   "execution_count": 9,
   "metadata": {},
   "outputs": [
    {
     "data": {
      "text/html": [
       "<div>\n",
       "<style scoped>\n",
       "    .dataframe tbody tr th:only-of-type {\n",
       "        vertical-align: middle;\n",
       "    }\n",
       "\n",
       "    .dataframe tbody tr th {\n",
       "        vertical-align: top;\n",
       "    }\n",
       "\n",
       "    .dataframe thead th {\n",
       "        text-align: right;\n",
       "    }\n",
       "</style>\n",
       "<table border=\"1\" class=\"dataframe\">\n",
       "  <thead>\n",
       "    <tr style=\"text-align: right;\">\n",
       "      <th></th>\n",
       "      <th>num_actions</th>\n",
       "      <th>position_category</th>\n",
       "      <th>price_index</th>\n",
       "      <th>external_index_data_minimal_price</th>\n",
       "      <th>external_index_data_price_index_value</th>\n",
       "      <th>self_marketplaces_index_data_minimal_price</th>\n",
       "      <th>self_marketplaces_index_data_price_index_value</th>\n",
       "      <th>marketing_seller_price</th>\n",
       "      <th>marketing_price</th>\n",
       "      <th>conv_tocart</th>\n",
       "      <th>conv_tocart_pdp</th>\n",
       "      <th>hits_tocart</th>\n",
       "      <th>hits_tocart_pdp</th>\n",
       "      <th>hits_view_search</th>\n",
       "      <th>shop_id</th>\n",
       "      <th>offer_id</th>\n",
       "      <th>date</th>\n",
       "      <th>title</th>\n",
       "      <th>warehouse_name</th>\n",
       "      <th>delivery_schema</th>\n",
       "      <th>gross_profit</th>\n",
       "      <th>sales_profit</th>\n",
       "      <th>prime_cost_of_paid</th>\n",
       "      <th>prime_cost_of_return</th>\n",
       "      <th>cancellation_processing</th>\n",
       "      <th>seller_bonuses_cost</th>\n",
       "      <th>cross_docking_cost_prod</th>\n",
       "      <th>gds_net_profit_after_tax</th>\n",
       "      <th>gds_profitability_after_tax</th>\n",
       "      <th>other_cost_prod</th>\n",
       "      <th>placement_cost_prod</th>\n",
       "      <th>promotion_advertising_prod</th>\n",
       "      <th>promotion_reviews_prod</th>\n",
       "      <th>shop_net_profit_after_tax</th>\n",
       "      <th>shop_net_profit_bfr_tax</th>\n",
       "      <th>shop_profitability_after_tax</th>\n",
       "      <th>gds_net_profit_bfr_tax</th>\n",
       "      <th>sum_reverse_logistics_orders_commission_installment_sale_cost_last_mile_returns_commission_direct_logistics_acquiring_cost_prod</th>\n",
       "      <th>accruals</th>\n",
       "      <th>TARGET</th>\n",
       "    </tr>\n",
       "  </thead>\n",
       "  <tbody>\n",
       "    <tr>\n",
       "      <th>0</th>\n",
       "      <td>0.0</td>\n",
       "      <td>-0.062177</td>\n",
       "      <td>-0.259311</td>\n",
       "      <td>-0.069317</td>\n",
       "      <td>-0.154751</td>\n",
       "      <td>1.420795</td>\n",
       "      <td>0.0</td>\n",
       "      <td>-0.085417</td>\n",
       "      <td>-0.439822</td>\n",
       "      <td>-0.08107</td>\n",
       "      <td>-0.297859</td>\n",
       "      <td>-0.18764</td>\n",
       "      <td>-0.079189</td>\n",
       "      <td>0.0</td>\n",
       "      <td>479580b8-30b1-4ace-9da1-77649e3c39ee</td>\n",
       "      <td>1RCA-1RCA-1.2M</td>\n",
       "      <td>2023-09-01</td>\n",
       "      <td>Шнур TWIST аудио-видео: 1RCA-1RCA, тюльпаны- к...</td>\n",
       "      <td>ХОРУГВИНО</td>\n",
       "      <td>FBO</td>\n",
       "      <td>106.63</td>\n",
       "      <td>30.21</td>\n",
       "      <td>-34.37</td>\n",
       "      <td>0.0</td>\n",
       "      <td>0.0</td>\n",
       "      <td>-0.45</td>\n",
       "      <td>-1.631125</td>\n",
       "      <td>10.977445</td>\n",
       "      <td>8.1</td>\n",
       "      <td>-0.321904</td>\n",
       "      <td>-1.243787</td>\n",
       "      <td>-14.448265</td>\n",
       "      <td>-0.346393</td>\n",
       "      <td>30.21</td>\n",
       "      <td>30.21</td>\n",
       "      <td>21.74</td>\n",
       "      <td>10.977445</td>\n",
       "      <td>-77.211081</td>\n",
       "      <td>141.0</td>\n",
       "      <td>1</td>\n",
       "    </tr>\n",
       "  </tbody>\n",
       "</table>\n",
       "</div>"
      ],
      "text/plain": [
       "  num_actions position_category price_index external_index_data_minimal_price  \\\n",
       "0         0.0         -0.062177   -0.259311                         -0.069317   \n",
       "\n",
       "  external_index_data_price_index_value  \\\n",
       "0                             -0.154751   \n",
       "\n",
       "  self_marketplaces_index_data_minimal_price  \\\n",
       "0                                   1.420795   \n",
       "\n",
       "  self_marketplaces_index_data_price_index_value marketing_seller_price  \\\n",
       "0                                            0.0              -0.085417   \n",
       "\n",
       "  marketing_price conv_tocart conv_tocart_pdp hits_tocart hits_tocart_pdp  \\\n",
       "0       -0.439822    -0.08107       -0.297859    -0.18764       -0.079189   \n",
       "\n",
       "  hits_view_search                               shop_id        offer_id  \\\n",
       "0              0.0  479580b8-30b1-4ace-9da1-77649e3c39ee  1RCA-1RCA-1.2M   \n",
       "\n",
       "        date                                              title  \\\n",
       "0 2023-09-01  Шнур TWIST аудио-видео: 1RCA-1RCA, тюльпаны- к...   \n",
       "\n",
       "  warehouse_name delivery_schema gross_profit sales_profit prime_cost_of_paid  \\\n",
       "0      ХОРУГВИНО             FBO       106.63        30.21             -34.37   \n",
       "\n",
       "  prime_cost_of_return cancellation_processing seller_bonuses_cost  \\\n",
       "0                  0.0                     0.0               -0.45   \n",
       "\n",
       "  cross_docking_cost_prod gds_net_profit_after_tax  \\\n",
       "0               -1.631125                10.977445   \n",
       "\n",
       "  gds_profitability_after_tax other_cost_prod placement_cost_prod  \\\n",
       "0                         8.1       -0.321904           -1.243787   \n",
       "\n",
       "  promotion_advertising_prod promotion_reviews_prod shop_net_profit_after_tax  \\\n",
       "0                 -14.448265              -0.346393                     30.21   \n",
       "\n",
       "  shop_net_profit_bfr_tax shop_profitability_after_tax gds_net_profit_bfr_tax  \\\n",
       "0                   30.21                        21.74              10.977445   \n",
       "\n",
       "  sum_reverse_logistics_orders_commission_installment_sale_cost_last_mile_returns_commission_direct_logistics_acquiring_cost_prod  \\\n",
       "0                                         -77.211081                                                                                \n",
       "\n",
       "  accruals TARGET  \n",
       "0    141.0      1  "
      ]
     },
     "execution_count": 9,
     "metadata": {},
     "output_type": "execute_result"
    }
   ],
   "source": [
    "from pipeline.step_4.build_pipeline import visualization, set_datetime\n",
    "df.head(1)\n",
    "# visualization(df)"
   ]
  },
  {
   "cell_type": "code",
   "execution_count": 4,
   "metadata": {},
   "outputs": [],
   "source": [
    "from pandas.tseries.offsets import DateOffset\n",
    "from utils.reader import ReadData\n",
    "import pandas as pd\n",
    "\n",
    "\n",
    "def train_test_split(df):\n",
    "\n",
    "    def set_datetime(df):\n",
    "        df['date'] = pd.to_datetime(df['date'])\n",
    "        df = df.set_index('date', drop=True, inplace=False)\n",
    "        df.sort_index(inplace=True)\n",
    "        return df\n",
    "\n",
    "    def get_split(df: pd.DataFrame):\n",
    "        offset = df.index[-1] - DateOffset(weeks=1)\n",
    "        df_train = df[df.index < offset]\n",
    "        df_test = df[df.index >= offset]\n",
    "        df_train.reset_index(inplace=True)\n",
    "        df_test.reset_index(inplace=True)\n",
    "        return df_train, df_test\n",
    "\n",
    "    df = set_datetime(df)\n",
    "    df_train, df_test = get_split(df)\n",
    "\n",
    "    return df_train, df_test\n",
    "\n",
    "\n",
    "def set_target(df):\n",
    "    TARGET = 'TARGET'\n",
    "    qp, qr = 'quantity_of_paid', 'quantity_of_return',\n",
    "    df[TARGET] = df[qp] - df[qr]\n",
    "    df.drop([qp, qr], axis=1, inplace=True)\n",
    "    return df\n",
    "\n",
    "\n",
    "def load_and_preprocess(df):\n",
    "    # data, feature, meta\n",
    "    df = set_target(df)\n",
    "    df_train, df_test = train_test_split(df)\n",
    "    return df_train, df_test\n",
    "\n",
    "\n",
    "df_data_train, df_data_test = load_and_preprocess(df)"
   ]
  },
  {
   "cell_type": "code",
   "execution_count": 7,
   "metadata": {},
   "outputs": [],
   "source": [
    "import import_ipynb\n",
    "from models import model_0 as model\n",
    "\n",
    "model = model.Model()"
   ]
  },
  {
   "cell_type": "code",
   "execution_count": 45,
   "metadata": {},
   "outputs": [],
   "source": [
    "shop_id = df_data_train.shop_id[0]\n",
    "offer_id = df_data_train.groupby('offer_id')['TARGET'].sum().index[df_data_train.groupby('offer_id')['TARGET'].sum().argmax()]\n",
    "\n"
   ]
  },
  {
   "cell_type": "code",
   "execution_count": null,
   "metadata": {},
   "outputs": [],
   "source": [
    "# create the model\n",
    "\n",
    "model.main(inference=False, df=series)"
   ]
  },
  {
   "cell_type": "code",
   "execution_count": 8,
   "metadata": {},
   "outputs": [
    {
     "name": "stdout",
     "output_type": "stream",
     "text": [
      "importing Jupyter notebook from model.ipynb\n"
     ]
    },
    {
     "name": "stderr",
     "output_type": "stream",
     "text": [
      "100%|██████████| 12/12 [00:07<00:00,  1.53it/s]\n"
     ]
    },
    {
     "data": {
      "text/plain": [
       "<Figure size 960x720 with 0 Axes>"
      ]
     },
     "metadata": {},
     "output_type": "display_data"
    },
    {
     "data": {
      "image/png": "[encoded data removed]",
      "text/plain": [
       "<Figure size 1600x600 with 1 Axes>"
      ]
     },
     "metadata": {},
     "output_type": "display_data"
    }
   ],
   "source": [
    "import model\n",
    "import imp\n",
    "imp.reload(model)\n",
    "model = model.Model()\n",
    "\n",
    "model.main(inference=True, df=series)"
   ]
  },
  {
   "cell_type": "code",
   "execution_count": null,
   "metadata": {},
   "outputs": [],
   "source": []
  },
  {
   "cell_type": "code",
   "execution_count": null,
   "metadata": {},
   "outputs": [],
   "source": []
  }
 ],
 "metadata": {
  "kernelspec": {
   "display_name": "Python 3",
   "language": "python",
   "name": "python3"
  },
  "language_info": {
   "codemirror_mode": {
    "name": "ipython",
    "version": 3
   },
   "file_extension": ".py",
   "mimetype": "text/x-python",
   "name": "python",
   "nbconvert_exporter": "python",
   "pygments_lexer": "ipython3",
   "version": "3.11.5"
  }
 },
 "nbformat": 4,
 "nbformat_minor": 0
}
