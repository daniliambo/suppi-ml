{
 "cells": [
  {
   "cell_type": "markdown",
   "metadata": {},
   "source": [
    "# Generate Bundles"
   ]
  },
  {
   "cell_type": "code",
   "execution_count": 2,
   "metadata": {},
   "outputs": [
    {
     "name": "stdout",
     "output_type": "stream",
     "text": [
      "Index(['offer_id', 'marketing_seller_price', 'shop_id', 'min_price',\n",
      "       'max_price'],\n",
      "      dtype='object')\n"
     ]
    }
   ],
   "source": [
    "from pipeline.step_2.build_pipeline import run_pipeline, plot\n",
    "\n",
    "\n",
    "def load_and_preprocess():\n",
    "    n = 10\n",
    "\n",
    "    df, bundles = run_pipeline(n)\n",
    "    # plot(df)\n",
    "    return bundles\n",
    "\n",
    "\n",
    "if __name__ == \"__main__\":\n",
    "    bundles = load_and_preprocess()"
   ]
  }
 ],
 "metadata": {
  "kernelspec": {
   "display_name": "shad",
   "language": "python",
   "name": "python3"
  },
  "language_info": {
   "codemirror_mode": {
    "name": "ipython",
    "version": 3
   },
   "file_extension": ".py",
   "mimetype": "text/x-python",
   "name": "python",
   "nbconvert_exporter": "python",
   "pygments_lexer": "ipython3",
   "version": "3.11.5"
  }
 },
 "nbformat": 4,
 "nbformat_minor": 2
}
