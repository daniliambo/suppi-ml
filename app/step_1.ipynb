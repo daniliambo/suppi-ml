{
 "cells": [
  {
   "cell_type": "markdown",
   "metadata": {},
   "source": [
    "# Preprocess Feature"
   ]
  },
  {
   "cell_type": "code",
   "execution_count": 2,
   "metadata": {},
   "outputs": [
    {
     "name": "stdout",
     "output_type": "stream",
     "text": [
      "id                                                29123\n",
      "date                                                101\n",
      "offer_id                                            642\n",
      "quantity                                            107\n",
      "sum_orders                                         4916\n",
      "marketing_seller_price                             1319\n",
      "position_category                                  1871\n",
      "sales_profit                                      15120\n",
      "sales_profit_predicted                                1\n",
      "price_index                                           1\n",
      "price_index_str                                       1\n",
      "num_actions                                          28\n",
      "external_index_data_minimal_price                   416\n",
      "external_index_data_price_index_value               132\n",
      "self_marketplaces_index_data_minimal_price            0\n",
      "self_marketplaces_index_data_price_index_value        1\n",
      "shop_id                                               1\n",
      "marketing_price                                    1685\n",
      "conv_tocart                                         191\n",
      "conv_tocart_pdp                                      48\n",
      "hits_tocart                                          15\n",
      "hits_tocart_pdp                                      11\n",
      "hits_view_search                                    191\n",
      "dtype: int64\n",
      "[Pipeline] ...... (step 1 of 2) Processing keep_feature, total=   0.0s\n"
     ]
    },
    {
     "name": "stderr",
     "output_type": "stream",
     "text": [
      "/Users/dev.daniil.bakushkin/miniconda3/envs/shad/lib/python3.11/site-packages/sklearn/utils/extmath.py:1051: RuntimeWarning: invalid value encountered in divide\n",
      "  updated_mean = (last_sum + new_sum) / updated_sample_count\n",
      "/Users/dev.daniil.bakushkin/miniconda3/envs/shad/lib/python3.11/site-packages/sklearn/utils/extmath.py:1056: RuntimeWarning: invalid value encountered in divide\n",
      "  T = new_sum / new_sample_count\n",
      "/Users/dev.daniil.bakushkin/miniconda3/envs/shad/lib/python3.11/site-packages/sklearn/utils/extmath.py:1076: RuntimeWarning: invalid value encountered in divide\n",
      "  new_unnormalized_variance -= correction**2 / new_sample_count\n"
     ]
    },
    {
     "name": "stdout",
     "output_type": "stream",
     "text": [
      "[Pipeline] ............... (step 2 of 2) Processing knn, total=  42.0s\n",
      "date                                               101\n",
      "offer_id                                           642\n",
      "shop_id                                              1\n",
      "num_actions                                        191\n",
      "position_category                                 3385\n",
      "price_index                                       1319\n",
      "external_index_data_minimal_price                    1\n",
      "external_index_data_price_index_value             4020\n",
      "self_marketplaces_index_data_minimal_price           1\n",
      "self_marketplaces_index_data_price_index_value       1\n",
      "marketing_seller_price                              15\n",
      "marketing_price                                    420\n",
      "conv_tocart                                         11\n",
      "conv_tocart_pdp                                     48\n",
      "hits_tocart                                        191\n",
      "hits_tocart_pdp                                    228\n",
      "hits_view_search                                  1685\n",
      "dtype: int64\n"
     ]
    }
   ],
   "source": [
    "from pipeline.step_1.build_pipeline import load_and_preprocess\n",
    "if __name__ == \"__main__\":\n",
    "    df_feature = load_and_preprocess()"
   ]
  },
  {
   "cell_type": "code",
   "execution_count": null,
   "metadata": {},
   "outputs": [],
   "source": []
  }
 ],
 "metadata": {
  "kernelspec": {
   "display_name": "shad",
   "language": "python",
   "name": "python3"
  },
  "language_info": {
   "codemirror_mode": {
    "name": "ipython",
    "version": 3
   },
   "file_extension": ".py",
   "mimetype": "text/x-python",
   "name": "python",
   "nbconvert_exporter": "python",
   "pygments_lexer": "ipython3",
   "version": "3.11.5"
  }
 },
 "nbformat": 4,
 "nbformat_minor": 2
}
