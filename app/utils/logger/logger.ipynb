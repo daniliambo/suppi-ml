{
 "cells": [
  {
   "cell_type": "code",
   "execution_count": null,
   "metadata": {},
   "outputs": [],
   "source": []
  },
  {
   "cell_type": "code",
   "execution_count": null,
   "metadata": {},
   "outputs": [],
   "source": [
    "from sklearn.ensemble import GradientBoostingClassifier\n",
    "from sklearn.tree import DecisionTreeClassifier\n",
    "from mlxtend.plotting import plot_decision_regions\n",
    "from sklearn.metrics import accuracy_score\n",
    "from sklearn.pipeline import Pipeline\n",
    "\n",
    "import imp\n",
    "import logger\n",
    "imp.reload(logger)\n",
    "\n",
    "gradboost_pipeline = Pipeline(\n",
    "    [\n",
    "        (\n",
    "            'extract numeric features',\n",
    "            ColumnTransformer(\n",
    "                [\n",
    "                    (\n",
    "                        'drop words',\n",
    "                        'drop',\n",
    "                        ['Artist Name', 'Track Name']\n",
    "                    )\n",
    "                ],\n",
    "                remainder='passthrough'\n",
    "            )\n",
    "        ),\n",
    "        (\n",
    "            'fill missing values',\n",
    "            SimpleImputer(strategy='constant', fill_value=X_train.apply(pd.to_numeric, errors='coerce').max().max())\n",
    "        ),\n",
    "        (\n",
    "            'estimator',\n",
    "            GradientBoostingClassifier(n_estimators=50, random_state=42)\n",
    "        )\n",
    "    ]\n",
    ")"
   ]
  },
  {
   "cell_type": "code",
   "execution_count": null,
   "metadata": {},
   "outputs": [],
   "source": [
    "from logger import Logger, ExperimentHandler\n",
    "\n",
    "X_train, y_train, X_test, y_test, cv_iterable = []\n",
    "\n",
    "logger = Logger('./logs')\n",
    "scorer = ExperimentHandler(\n",
    "    X_train, y_train, X_test, y_test, cv_iterable, logger,\n",
    "    metrics={\n",
    "        'BalancedAccuracy': 'balanced_accuracy',\n",
    "        'NegLogLoss': 'neg_log_loss'\n",
    "    }\n",
    ")"
   ]
  },
  {
   "cell_type": "code",
   "execution_count": null,
   "metadata": {},
   "outputs": [],
   "source": [
    "scorer.run(gradboost_pipeline, name='gradboost_on_old_features')"
   ]
  },
  {
   "cell_type": "code",
   "execution_count": null,
   "metadata": {},
   "outputs": [],
   "source": [
    "scorer.logger.leaderboard"
   ]
  }
 ],
 "metadata": {
  "language_info": {
   "name": "python"
  }
 },
 "nbformat": 4,
 "nbformat_minor": 2
}
